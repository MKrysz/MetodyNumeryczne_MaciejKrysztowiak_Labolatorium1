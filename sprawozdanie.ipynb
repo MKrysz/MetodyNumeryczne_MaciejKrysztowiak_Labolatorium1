{
 "cells": [
  {
   "cell_type": "markdown",
   "metadata": {
    "slideshow": {
     "slide_type": "notes"
    }
   },
   "source": [
    "# <center>Laboratorium 1<br>Metody Numeryczne</center>"
   ]
  },
  {
   "cell_type": "markdown",
   "metadata": {},
   "source": [
    "| Wydział: EAIiIB | Grupa 3a | Imię i Nazwisko: Maciej Krysztowiak | nr albumu: 408485 |\n",
    "|:---------------:|:----------------------------------------------:|:-----------------:|:---:|"
   ]
  },
  {
   "cell_type": "markdown",
   "metadata": {},
   "source": [
    "Biblioteki niezbędne do wykonania zadania:\n",
    "\n",
    "(wykonanie tego bloku zapewnia do nich dostęp w kolejnych blokach)"
   ]
  },
  {
   "cell_type": "code",
   "execution_count": 1,
   "metadata": {},
   "outputs": [],
   "source": [
    "import main\n",
    "\n",
    "import numpy as np\n",
    "import scipy"
   ]
  },
  {
   "cell_type": "markdown",
   "metadata": {},
   "source": [
    "Przydatne w trakcie zajęć mogą okazać się metody macierzy z pakietu Numpy, takie jak na przykład długość wektora - *[len]()* czy rozmiar macierzy -\n",
    "*[shape](https://docs.scipy.org/doc/numpy/reference/generated/numpy.ndarray.shape.html#numpy.ndarray.shape)*. Poniższy kod ilustruje ich podstawowe działanie. Dodatkowe metody obiektu $ndarray$ można znaleźć w oficjalnej *[dokumentacji](https://docs.scipy.org/doc/numpy/reference/arrays.ndarray.html)*."
   ]
  },
  {
   "cell_type": "code",
   "execution_count": 3,
   "metadata": {
    "tags": []
   },
   "outputs": [
    {
     "name": "stdout",
     "output_type": "stream",
     "text": [
      "Wektor:\n",
      "[1 2 3]\n",
      "Długość: 3\n",
      "Rozmiar: (3,) \n",
      "\n",
      "Macierz:\n",
      "[[1 2 3]\n",
      " [4 5 6]\n",
      " [7 8 9]]\n",
      "Rozmiar: (3, 3)\n"
     ]
    }
   ],
   "source": [
    "vector = np.array([1, 2, 3])\n",
    "print('Wektor:')\n",
    "print(vector)\n",
    "print('Długość:', len(vector))\n",
    "print('Rozmiar:', vector.shape, '\\n')\n",
    "\n",
    "matrix = np.array([[1, 2, 3], [4, 5, 6], [7, 8, 9]])\n",
    "print('Macierz:')\n",
    "print(matrix)\n",
    "print('Rozmiar:', matrix.shape)"
   ]
  },
  {
   "cell_type": "markdown",
   "metadata": {},
   "source": [
    "***Zadanie 1.***  \n",
    "Zaimplementuj funkcję $cylinder\\_area$ tak by zwracała pole powierzchni walca o promieniu podstawy $r$ i wysokości $h$. Stała $\\pi$ jest zdefiniowana np. w bibliotece *[math](https://docs.python.org/3/library/math.html#constants)*. Jeżeli nie da się policzyć pola funkcja powinna zwracać wartość *NaN*. Sprawdź działanie zaimplementowanej funkcji dla dowolnych wartości w tym notatniku."
   ]
  },
  {
   "cell_type": "code",
   "execution_count": 2,
   "metadata": {},
   "outputs": [
    {
     "data": {
      "text/plain": [
       "257.5848365346036"
      ]
     },
     "execution_count": 2,
     "metadata": {},
     "output_type": "execute_result"
    }
   ],
   "source": [
    "main.cylinder_area(1.23, 32.1)"
   ]
  },
  {
   "cell_type": "markdown",
   "metadata": {},
   "source": [
    "***Zadanie 2.***  \n",
    "Wygeneruj dowolne ciągi arytmetyczny o kroku różnym od jeden i niebędącym liczbą całkowitą, używając w tym celu funkcji *[arange](https://docs.scipy.org/doc/numpy/reference/generated/numpy.arange.html)* oraz *[linspace](https://docs.scipy.org/doc/numpy-1.10.0/reference/generated/numpy.linspace.html)*. Wypisz go i przeanalizuj otrzymane rezultaty."
   ]
  },
  {
   "cell_type": "code",
   "execution_count": 15,
   "metadata": {},
   "outputs": [
    {
     "data": {
      "text/plain": [
       "array([-2.1, -1.3, -0.5,  0.3,  1.1,  1.9,  2.7,  3.5,  4.3])"
      ]
     },
     "execution_count": 15,
     "metadata": {},
     "output_type": "execute_result"
    }
   ],
   "source": [
    "np.arange(-2.1, 5, 0.8)"
   ]
  },
  {
   "cell_type": "markdown",
   "metadata": {},
   "source": [
    "Funkcja aranga zwraca wektor z wypeniony liczbami w zakresie [-2.1, 5), oddalonymi o siebie o 0.8"
   ]
  },
  {
   "cell_type": "code",
   "execution_count": 14,
   "metadata": {},
   "outputs": [
    {
     "data": {
      "text/plain": [
       "array([ 2.        ,  3.14285714,  4.28571429,  5.42857143,  6.57142857,\n",
       "        7.71428571,  8.85714286, 10.        ])"
      ]
     },
     "execution_count": 14,
     "metadata": {},
     "output_type": "execute_result"
    }
   ],
   "source": [
    "np.linspace(2, 10, 8)"
   ]
  },
  {
   "cell_type": "markdown",
   "metadata": {},
   "source": [
    "Funkcja linspace zwraca wektor wypeniony 8 liczbami z zakresu [2, 10] rowno od siebie oddalonymi"
   ]
  },
  {
   "cell_type": "markdown",
   "metadata": {},
   "source": [
    "***Zadanie 3.***  \n",
    "Zaimplementuj funkcję $fib$ zwracającą wektor pierszych n elementów *[ciągu Fibonnaciego](https://pl.wikipedia.org/wiki/Ci%C4%85g_Fibonacciego)*, jeżeli nie jest to możliwe funkcja powinna zwrócić wartość *None*."
   ]
  },
  {
   "cell_type": "markdown",
   "metadata": {},
   "source": [
    "***Zadanie 4.***  \n",
    "Napisz funkję $matrix\\_calculations$ która jako argument przyjmuje dowolną wartość liczbową *a* i tworzy macierz:  \n",
    "  \n",
    "$\\mathbf{M} =\\left[ \\begin{matrix}\n",
    "a & 1 & -a\\\\\n",
    "0 & 1 & 1\\\\\n",
    "-a & a & 1\n",
    "\\end{matrix}\\right]\n",
    "$    \n",
    "   \n",
    "Dla zadeklarowanej macierzy wyznacz numerycznie macierz odwrotną $\\mathbf{Minv}$ (jeżeli nie istnieje taka macierz wartość wynosi NaN), macierz transponowaną $\\mathbf{Mt}$ i wyznacznik macierzy $\\mathbf{Mdet}$. Zwróć otrzymane wartości w postaci krotki postaci $(\\mathbf{Minv}, \\mathbf{Mt}, \\mathbf{Mdet})$.  Wypisz otrzymane wyniki. \n",
    "  \n",
    "***Wskazówki:*** Do tworzenia obiektów mających własności macierzy w języku Python używa się klasy *[array](https://docs.scipy.org/doc/numpy-1.15.1/reference/generated/numpy.array.html)* z pakietu *[numpy](http://www.numpy.org/)*, przykładowe użycie:"
   ]
  },
  {
   "cell_type": "code",
   "execution_count": 6,
   "metadata": {
    "scrolled": true,
    "tags": []
   },
   "outputs": [
    {
     "name": "stdout",
     "output_type": "stream",
     "text": [
      "Wektor poziomy:\n",
      " [1 2 3]\n",
      "Wektor pionowy:\n",
      " [[1]\n",
      " [2]\n",
      " [3]]\n",
      "Macierz:\n",
      " [[1 2]\n",
      " [3 4]]\n"
     ]
    }
   ],
   "source": [
    "import numpy as np # słowo kluczowe \"as\" oznacza przesłania nazwę numpy i pozwala  \n",
    "a = np.array([1, 2, 3])\n",
    "b = np.array([[1], [2], [3]])\n",
    "A = np.array([[1,2],[3,4]])\n",
    "print(\"Wektor poziomy:\\n {0}\".format(a))\n",
    "print(\"Wektor pionowy:\\n {0}\".format(b))\n",
    "print(\"Macierz:\\n {0}\".format(A))"
   ]
  },
  {
   "cell_type": "markdown",
   "metadata": {},
   "source": [
    "Do wykonania operacji odwracania macierzy należy użyć funkcji *[inv](https://docs.scipy.org/doc/numpy/reference/generated/numpy.linalg.inv.html)*, do obliczenia wyznacznika macierzy stosuje się funkcję *[det](https://docs.scipy.org/doc/numpy-1.15.0/reference/generated/numpy.linalg.det.html)*  z bliblioteki *[linalg](https://docs.scipy.org/doc/numpy/reference/routines.linalg.html)*. Natomiast transpozycję macierzy wykonujemy przez funkcję *[transpose](https://docs.scipy.org/doc/numpy-1.14.0/reference/generated/numpy.transpose.html)* której skrucona wersja to $M.T$ z pakietu *numpy*.  \n",
    "    \n",
    "*Ciekawostka:* Python natywnie nie zawiera struktury danych typu tablica, na poziomie języka jest to rozwiązane poprzez strukturę listy list do której elementów odwołuje się poprzez indeksy jak w C/C++."
   ]
  },
  {
   "cell_type": "markdown",
   "metadata": {},
   "source": [
    "***Zadanie 5.***  \n",
    "Stwórz w noataniku macierz:  \n",
    "$\\mathbf{M} =\\left[ \\begin{matrix}\n",
    "3 & 1 & -2 & 4\\\\\n",
    "0 & 1 & 1 & 5\\\\\n",
    "-2 & 1 & 1 & 6\\\\\n",
    "4 & 3 & 0 & 1\\\\\n",
    "\\end{matrix}\\right]\n",
    "$   \n",
    "Wypisz przy pomocy funkcji *print* następujące elementy macierzy $\\mathbf{M}$: $\\mathbf{M}_{1,1},\\mathbf{M}_{3,3},\\mathbf{M}_{3,2}$. Zdefiniuj wektor $\\mathbf{w1}$ którego elementy to trzecia kolumna macierzy $\\mathbf{M}$ oraz wektor $\\mathbf{w2}$ który składa się z drugiego wiersza tej macierzy.  \n",
    "  \n",
    "***Wskazówki:***\n",
    "Tablice z pakietu *numpy* są indeksowane od zera a do każdego elementu można odwołać się poprzez jego indeks. Przykład użycie\n"
   ]
  },
  {
   "cell_type": "code",
   "execution_count": 4,
   "metadata": {
    "tags": []
   },
   "outputs": [
    {
     "name": "stdout",
     "output_type": "stream",
     "text": [
      "Macierz P=\n",
      "[[1 3 2]\n",
      " [3 4 6]\n",
      " [7 8 9]]\n",
      "Elementy trzeciej kolumny:\n",
      " [2 6 9]\n",
      "Elementy trzeciego wiersza:\n",
      " [7 8 9]\n"
     ]
    }
   ],
   "source": [
    "# Inicjalizacja macierzy do przykładu\n",
    "P = np.array([[1,3,2],[3,4, 6],[7,8,9]])\n",
    "print(\"Macierz P=\\n{0}\".format(P))\n",
    "# wyciągnięcie trzeciej kolumny \n",
    "wektor1 = P[:,2]\n",
    "# wyciągnięcie trzeciego wiersza \n",
    "wektor2 = P[2,:]\n",
    "print(\"Elementy trzeciej kolumny:\\n {0}\".format(wektor1))\n",
    "print(\"Elementy trzeciego wiersza:\\n {0}\".format(wektor2))"
   ]
  },
  {
   "cell_type": "markdown",
   "metadata": {},
   "source": [
    "Dodatkowo twórcy biblioteki umożliwiają użytkownikowi na manipulację elementami tablicy poprzez operator ':', więcej szczegółów na temat jego użycia w artykule [NumPy for Matlab users](https://docs.scipy.org/doc/numpy/user/numpy-for-matlab-users.html#numpy-for-matlab-users)."
   ]
  },
  {
   "cell_type": "code",
   "execution_count": 21,
   "metadata": {},
   "outputs": [
    {
     "name": "stdout",
     "output_type": "stream",
     "text": [
      "Macierz M=\n",
      "[[ 3  1 -2  4]\n",
      " [ 0  1  1  5]\n",
      " [-2  1  1  6]\n",
      " [ 4  3  0  1]]\n",
      "Macierz M[1,1]=1\n",
      "Macierz M[3,3]=1\n",
      "Macierz M[3,2]=0\n",
      "wektor w1=[-2  1  1  0]\n",
      "wektor w2=[0 1 1 5]\n"
     ]
    }
   ],
   "source": [
    "M = np.array((\n",
    "    [3, 1, -2, 4],\n",
    "    [0, 1, 1, 5],\n",
    "    [-2, 1, 1, 6],\n",
    "    [4, 3, 0, 1]))\n",
    "    \n",
    "print(\"Macierz M=\\n{0}\".format(M))\n",
    "print(\"Macierz M[1,1]={0}\".format(M[1,1]))\n",
    "print(\"Macierz M[3,3]={0}\".format(M[3,3]))\n",
    "print(\"Macierz M[3,2]={0}\".format(M[3,2]))\n",
    "w1 = M[:,2]\n",
    "w2 = M[1,:]\n",
    "print(\"wektor w1={0}\".format(w1))\n",
    "print(\"wektor w2={0}\".format(w2))\n"
   ]
  },
  {
   "cell_type": "markdown",
   "metadata": {},
   "source": [
    "***Zadanie 6.***   \n",
    "Uzupełnij funkcję $custom\\_matrix$, tak by parametry m, n określały wymiary macierzy wynikowej, która\n",
    "będzie wypełniona w/g algorytmu: jeśli indeks wiersza jest większy od indeksu kolumny\n",
    "wartością komórki jest indeks wiersza, w przeciwnym wypadku wartością komórki jest indeks\n",
    "kolumny. Funkcja jako wynik powinna zwracać uzupełnioną macierz, jeżeli nie jest to możliwe to powinna zwrócić *None*. Na koniec wyświetlić wynikową macierz dla dowolnych argumentów $m$, $n$ z przedziału $\\langle3,7\\rangle$.\n",
    "  \n",
    "***Wskazówka:*** Inicjalizacja pustej macierz wykonywana jest w pakiecie Numpy przy pomocy funkcji  *[zeros](https://docs.scipy.org/doc/numpy-1.15.0/reference/generated/numpy.zeros.html)*, zaś macierzy składającej się z jedynek *[ones](https://docs.scipy.org/doc/numpy/reference/generated/numpy.ones.html)*."
   ]
  },
  {
   "cell_type": "code",
   "execution_count": 5,
   "metadata": {
    "tags": []
   },
   "outputs": [
    {
     "name": "stdout",
     "output_type": "stream",
     "text": [
      "zero_matrix: \n",
      "[[0. 0.]\n",
      " [0. 0.]]\n",
      "ones_matrix: \n",
      "[[1.]\n",
      " [1.]\n",
      " [1.]]\n"
     ]
    }
   ],
   "source": [
    "zero_matrix = np.zeros((2, 2))\n",
    "ones_matrix = np.ones((3,1))\n",
    "\n",
    "print('zero_matrix: \\n{}'.format(zero_matrix))\n",
    "print('ones_matrix: \\n{}'.format(ones_matrix))"
   ]
  },
  {
   "cell_type": "code",
   "execution_count": 22,
   "metadata": {},
   "outputs": [
    {
     "data": {
      "text/plain": [
       "array([[0., 1., 2., 3., 4.],\n",
       "       [1., 1., 2., 3., 4.],\n",
       "       [2., 2., 2., 3., 4.],\n",
       "       [3., 3., 3., 3., 4.]])"
      ]
     },
     "execution_count": 22,
     "metadata": {},
     "output_type": "execute_result"
    }
   ],
   "source": [
    "M = main.custom_matrix(4, 5)\n",
    "M"
   ]
  },
  {
   "cell_type": "markdown",
   "metadata": {},
   "source": [
    "***Zadanie 7.***\n",
    "\n",
    "Biblioteka Numpy posiada własne metody, pozwalające na szybsze i wygotniejsze wykonywanie operacji na wektorach i macierzach. Kolejne zadania mają na celu przećwiczenie tych metod. Zamiast samemu implementować mnożenie macierzy, należy skorzystać właśnie z wbudowanych funkcji Numpy. Najbardzie podstawowe z nich to *[np.multiply](https://docs.scipy.org/doc/numpy-1.15.0/reference/generated/numpy.multiply.html)*, *[np.dot](https://docs.scipy.org/doc/numpy-1.15.0/reference/generated/numpy.dot.html)* oraz *[np.matmul](https://docs.scipy.org/doc/numpy-1.15.1/reference/generated/numpy.matmul.html)*. Przed wykonaniem zadania należy zapoznać się z ich dokumentacją, aby stosować poprawną funkcję do danego typu mnożenia. Dodatkowo ciekawą i użyteczną funkcjonalnością Numpy, wykorzystywaną niekiedy przy dodawaniu macierzy jest *broadcasting*, proszę o zapoznaie się z opisem:  *[[1]](https://docs.scipy.org/doc/numpy-1.15.0/user/basics.broadcasting.html)* *[[2]](https://www.tutorialspoint.com/numpy/numpy_broadcasting.htm)*.\n",
    "\n",
    "Zainicjalizować dwa wektory $v_1$ i $v_2$:\n",
    "\n",
    "$v_1 = \\begin{bmatrix}1\\\\3\\\\13\\end{bmatrix} \\quad v_2 = \\begin{bmatrix}8\\\\5\\\\-2\\end{bmatrix}$\n",
    "\n",
    "Następnie wykonać operacje i wypisać ich wynik:\n",
    "- $4*v_1$\n",
    "- $-v_2 + \\begin{bmatrix}2\\\\2\\\\2\\end{bmatrix}$\n",
    "- $v_1 \\circ v_2$ (w sensie mnożenia macierzy, tzw. mnożenie macierzy w sensie Cauchy’ego)\n",
    "- $v_1 * v_2$ (w sensie mnożenia Hadamarda (element-wise))\n",
    "\n",
    "***Wskazówki:*** Warto wiedzieć o *[np.dot](https://docs.scipy.org/doc/numpy-1.15.0/reference/generated/numpy.dot.html)* i *[np.multiply](https://docs.scipy.org/doc/numpy-1.15.0/reference/generated/numpy.multiply.html)*. Zbadać jak zachowuje się przeciążony operator mnożenia $*$ oraz $@$ dla macierzy $ndarray$."
   ]
  },
  {
   "cell_type": "code",
   "execution_count": 7,
   "metadata": {},
   "outputs": [
    {
     "name": "stdout",
     "output_type": "stream",
     "text": [
      "Iloczyn wektora i skalara =\n",
      "[[ 4]\n",
      " [12]\n",
      " [52]]\n",
      "Suma wektorów =\n",
      "[[-6]\n",
      " [-3]\n",
      " [ 4]]\n",
      "Iloczyn Cauchy'ego =\n",
      "[[-3]]\n",
      "Iloczyn Cauchy'ego (wersja 2) =\n",
      "[[  8   5  -2]\n",
      " [ 24  15  -6]\n",
      " [104  65 -26]]\n",
      "Iloczyn Hadamarda =\n",
      "[[  8]\n",
      " [ 15]\n",
      " [-26]]\n"
     ]
    }
   ],
   "source": [
    "v1 = np.array(([1],[3],[13]))\n",
    "v2 = np.array(([8],[5],[-2]))\n",
    "\n",
    "result = 4 * v1\n",
    "print('Iloczyn wektora i skalara =\\n{}'.format(result))\n",
    "\n",
    "result = -v2 + [[2]]*3\n",
    "print('Suma wektorów =\\n{}'.format(result))\n",
    "\n",
    "#operator @ został przeciążony jako mnożenie macierzy w sensie Cauchy'ego\n",
    "#żeby mnożenie w sensie Cauchy'ego było możliwe jeden z wektorów należy transponować\n",
    "result = np.transpose(v1) @ v2\n",
    "print(\"Iloczyn Cauchy'ego =\\n{}\".format(result))\n",
    "\n",
    "result = v1 @ np.transpose(v2)\n",
    "print(\"Iloczyn Cauchy'ego (wersja 2) =\\n{}\".format(result))\n",
    "\n",
    "#operator * został przeciążony jako mnożenie macierzy w sensie Hadamarda\n",
    "result = v1 * v2\n",
    "print('Iloczyn Hadamarda =\\n{}'.format(result))\n"
   ]
  },
  {
   "cell_type": "markdown",
   "metadata": {},
   "source": [
    "***Zadanie 8.***\n",
    "Zainicjalizować macierz $M_1$:\n",
    "\n",
    "$M_1 = \\begin{bmatrix}1&-7&3\\\\-12&3&4\\\\5&13&-3\\end{bmatrix}$\n",
    "\n",
    "Następnie wykonać operacje i wypisać ich wynik:\n",
    "- $3M_1$\n",
    "- $3M_1 + \\begin{bmatrix}1&1&1\\\\1&1&1\\\\1&1&1\\end{bmatrix}$\n",
    "- $M_1^T$\n",
    "- $M_1 \\circ v_1$ \n",
    "- $v_2^T \\circ M_1$"
   ]
  },
  {
   "cell_type": "markdown",
   "metadata": {},
   "source": [
    "Materiały uzupełniające:\n",
    "- [Scipy Lecture Notes](http://www.scipy-lectures.org/index.html)\n",
    "- [NumPy for Matlab users](https://docs.scipy.org/doc/numpy/user/numpy-for-matlab-users.html#numpy-for-matlab-users)\n",
    "- [Python Tutorial - W3Schools](https://www.w3schools.com/python/default.asp)\n",
    "- [NumPy](https://www.numpy.org)\n",
    "- [Matplotlib](https://matplotlib.org/)\n",
    "- [Anaconda](https://www.anaconda.com/)\n",
    "- [Learn Python for Data Science](https://www.datacamp.com/learn-python-with-anaconda?utm_source=Anaconda_download&utm_campaign=datacamp_training&utm_medium=banner)\n",
    "- [Learn Python](https://www.learnpython.org/)\n",
    "- [Wujek Google](https://google.pl) i [Ciocia Wikipedia](https://pl.wikipedia.org/wiki/Wikipedia:Strona_g%C5%82%C3%B3wna)"
   ]
  },
  {
   "cell_type": "code",
   "execution_count": 5,
   "metadata": {},
   "outputs": [
    {
     "name": "stdout",
     "output_type": "stream",
     "text": [
      "Iloczyn macierzy i skalara =\n",
      "[[  3 -21   9]\n",
      " [-36   9  12]\n",
      " [ 15  39  -9]]\n",
      "suma macierzy =\n",
      "[[  4 -20  10]\n",
      " [-35  10  13]\n",
      " [ 16  40  -8]]\n",
      "Transpozycja macierzy =\n",
      "[[  1 -12   5]\n",
      " [ -7   3  13]\n",
      " [  3   4  -3]]\n",
      "Iloczyn macierzy i wektora =\n",
      "[[19]\n",
      " [49]\n",
      " [ 5]]\n",
      "Iloczyn wektora i macierzy =\n",
      "[[-62 -67  50]]\n"
     ]
    }
   ],
   "source": [
    "M_1 = np.array((\n",
    "    [1, -7, 3],\n",
    "    [-12, 3, 4],\n",
    "    [5, 13, -3]\n",
    "))\n",
    "\n",
    "result = 3 * M_1\n",
    "print('Iloczyn macierzy i skalara =\\n{}'.format(result))\n",
    "\n",
    "result = 3 * M_1 + [[1]*3]*3\n",
    "print('suma macierzy =\\n{}'.format(result))\n",
    "\n",
    "result = M_1.transpose()\n",
    "print('Transpozycja macierzy =\\n{}'.format(result))\n",
    "\n",
    "result = M_1 @ v1\n",
    "print('Iloczyn macierzy i wektora =\\n{}'.format(result))\n",
    "\n",
    "result = np.transpose(v2) @ M_1\n",
    "print('Iloczyn wektora i macierzy =\\n{}'.format(result))\n"
   ]
  }
 ],
 "metadata": {
  "celltoolbar": "Raw Cell Format",
  "interpreter": {
   "hash": "9bdce408c87f4eb668e1917b7feebb20d95ee31fab34e06aa8103d269ca5db77"
  },
  "kernelspec": {
   "display_name": "Python 3.8.8 64-bit ('base': conda)",
   "name": "python3"
  },
  "language_info": {
   "codemirror_mode": {
    "name": "ipython",
    "version": 3
   },
   "file_extension": ".py",
   "mimetype": "text/x-python",
   "name": "python",
   "nbconvert_exporter": "python",
   "pygments_lexer": "ipython3",
   "version": "3.8.8"
  }
 },
 "nbformat": 4,
 "nbformat_minor": 2
}
